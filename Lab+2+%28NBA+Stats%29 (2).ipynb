{
 "cells": [
  {
   "cell_type": "markdown",
   "metadata": {
    "collapsed": true
   },
   "source": [
    "# Every NBA Team’s Chance Of Winning In Every Minute Across Every Game Statistical Analysis"
   ]
  },
  {
   "cell_type": "markdown",
   "metadata": {},
   "source": [
    "Data Information:\n",
    "\n",
    "\n",
    "Link: https://fivethirtyeight.com/features/every-nba-teams-chance-of-winning-in-every-minute-across-every-game/\n",
    "\n",
    "Date Published: Feb.18,2015\n",
    "\n",
    "By: Mike Beuoy and Allison McCann\n",
    "\n",
    "Genre: Basketball\n"
   ]
  },
  {
   "cell_type": "markdown",
   "metadata": {},
   "source": [
    "Statistical Analysis:\n",
    "\n",
    "By: Doran Wu\n",
    "\n",
    "Date:27/09/17"
   ]
  },
  {
   "cell_type": "markdown",
   "metadata": {},
   "source": [
    "# Introduction"
   ]
  },
  {
   "cell_type": "markdown",
   "metadata": {},
   "source": [
    "Objective:\n",
    "\n",
    "In this the lab the student has to review and examine the data from this link and come up with questions, https://fivethirtyeight.com/features/every-nba-teams-chance-of-winning-in-every-minute-across-every-game/. I will compare all the quantitative variables to the anchor variable to find correlations and with that data, come up with graphs to view relationships that I can find.\n",
    "\n",
    "Through analysis and data charts I hope to answer the following questions:\n",
    "\n",
    "1.Are some variables related to each other, dependent on the other?\n",
    "2.Do any of the variables correlate with each other?\n",
    "3.Based on the correlations, are there any conclusions that can be drawn?"
   ]
  },
  {
   "cell_type": "markdown",
   "metadata": {},
   "source": [
    "# Preparing All the Data"
   ]
  },
  {
   "cell_type": "code",
   "execution_count": 27,
   "metadata": {},
   "outputs": [
    {
     "ename": "FileNotFoundError",
     "evalue": "File b'NBA_stats/nba.csv' does not exist",
     "output_type": "error",
     "traceback": [
      "\u001b[0;31m---------------------------------------------------------------------------\u001b[0m",
      "\u001b[0;31mFileNotFoundError\u001b[0m                         Traceback (most recent call last)",
      "\u001b[0;32m<ipython-input-27-615f00f5ac1c>\u001b[0m in \u001b[0;36m<module>\u001b[0;34m()\u001b[0m\n\u001b[1;32m      4\u001b[0m \u001b[0;32mimport\u001b[0m \u001b[0mpandas\u001b[0m \u001b[0;32mas\u001b[0m \u001b[0mpd\u001b[0m\u001b[0;34m\u001b[0m\u001b[0m\n\u001b[1;32m      5\u001b[0m \u001b[0;31m#finding the file\u001b[0m\u001b[0;34m\u001b[0m\u001b[0;34m\u001b[0m\u001b[0m\n\u001b[0;32m----> 6\u001b[0;31m \u001b[0mnba_data\u001b[0m \u001b[0;34m=\u001b[0m \u001b[0mpd\u001b[0m\u001b[0;34m.\u001b[0m\u001b[0mread_csv\u001b[0m\u001b[0;34m(\u001b[0m\u001b[0;34m\"NBA_stats/nba.csv\"\u001b[0m\u001b[0;34m)\u001b[0m\u001b[0;34m\u001b[0m\u001b[0m\n\u001b[0m\u001b[1;32m      7\u001b[0m \u001b[0;31m#only getting the 48th minute\u001b[0m\u001b[0;34m\u001b[0m\u001b[0;34m\u001b[0m\u001b[0m\n\u001b[1;32m      8\u001b[0m \u001b[0mminute_48\u001b[0m \u001b[0;34m=\u001b[0m \u001b[0mnba_data\u001b[0m\u001b[0;34m[\u001b[0m\u001b[0;34m'48'\u001b[0m\u001b[0;34m]\u001b[0m\u001b[0;34m\u001b[0m\u001b[0m\n",
      "\u001b[0;32m/Users/doranwu/anaconda/lib/python3.6/site-packages/pandas/io/parsers.py\u001b[0m in \u001b[0;36mparser_f\u001b[0;34m(filepath_or_buffer, sep, delimiter, header, names, index_col, usecols, squeeze, prefix, mangle_dupe_cols, dtype, engine, converters, true_values, false_values, skipinitialspace, skiprows, nrows, na_values, keep_default_na, na_filter, verbose, skip_blank_lines, parse_dates, infer_datetime_format, keep_date_col, date_parser, dayfirst, iterator, chunksize, compression, thousands, decimal, lineterminator, quotechar, quoting, escapechar, comment, encoding, dialect, tupleize_cols, error_bad_lines, warn_bad_lines, skipfooter, skip_footer, doublequote, delim_whitespace, as_recarray, compact_ints, use_unsigned, low_memory, buffer_lines, memory_map, float_precision)\u001b[0m\n\u001b[1;32m    653\u001b[0m                     skip_blank_lines=skip_blank_lines)\n\u001b[1;32m    654\u001b[0m \u001b[0;34m\u001b[0m\u001b[0m\n\u001b[0;32m--> 655\u001b[0;31m         \u001b[0;32mreturn\u001b[0m \u001b[0m_read\u001b[0m\u001b[0;34m(\u001b[0m\u001b[0mfilepath_or_buffer\u001b[0m\u001b[0;34m,\u001b[0m \u001b[0mkwds\u001b[0m\u001b[0;34m)\u001b[0m\u001b[0;34m\u001b[0m\u001b[0m\n\u001b[0m\u001b[1;32m    656\u001b[0m \u001b[0;34m\u001b[0m\u001b[0m\n\u001b[1;32m    657\u001b[0m     \u001b[0mparser_f\u001b[0m\u001b[0;34m.\u001b[0m\u001b[0m__name__\u001b[0m \u001b[0;34m=\u001b[0m \u001b[0mname\u001b[0m\u001b[0;34m\u001b[0m\u001b[0m\n",
      "\u001b[0;32m/Users/doranwu/anaconda/lib/python3.6/site-packages/pandas/io/parsers.py\u001b[0m in \u001b[0;36m_read\u001b[0;34m(filepath_or_buffer, kwds)\u001b[0m\n\u001b[1;32m    403\u001b[0m \u001b[0;34m\u001b[0m\u001b[0m\n\u001b[1;32m    404\u001b[0m     \u001b[0;31m# Create the parser.\u001b[0m\u001b[0;34m\u001b[0m\u001b[0;34m\u001b[0m\u001b[0m\n\u001b[0;32m--> 405\u001b[0;31m     \u001b[0mparser\u001b[0m \u001b[0;34m=\u001b[0m \u001b[0mTextFileReader\u001b[0m\u001b[0;34m(\u001b[0m\u001b[0mfilepath_or_buffer\u001b[0m\u001b[0;34m,\u001b[0m \u001b[0;34m**\u001b[0m\u001b[0mkwds\u001b[0m\u001b[0;34m)\u001b[0m\u001b[0;34m\u001b[0m\u001b[0m\n\u001b[0m\u001b[1;32m    406\u001b[0m \u001b[0;34m\u001b[0m\u001b[0m\n\u001b[1;32m    407\u001b[0m     \u001b[0;32mif\u001b[0m \u001b[0mchunksize\u001b[0m \u001b[0;32mor\u001b[0m \u001b[0miterator\u001b[0m\u001b[0;34m:\u001b[0m\u001b[0;34m\u001b[0m\u001b[0m\n",
      "\u001b[0;32m/Users/doranwu/anaconda/lib/python3.6/site-packages/pandas/io/parsers.py\u001b[0m in \u001b[0;36m__init__\u001b[0;34m(self, f, engine, **kwds)\u001b[0m\n\u001b[1;32m    760\u001b[0m             \u001b[0mself\u001b[0m\u001b[0;34m.\u001b[0m\u001b[0moptions\u001b[0m\u001b[0;34m[\u001b[0m\u001b[0;34m'has_index_names'\u001b[0m\u001b[0;34m]\u001b[0m \u001b[0;34m=\u001b[0m \u001b[0mkwds\u001b[0m\u001b[0;34m[\u001b[0m\u001b[0;34m'has_index_names'\u001b[0m\u001b[0;34m]\u001b[0m\u001b[0;34m\u001b[0m\u001b[0m\n\u001b[1;32m    761\u001b[0m \u001b[0;34m\u001b[0m\u001b[0m\n\u001b[0;32m--> 762\u001b[0;31m         \u001b[0mself\u001b[0m\u001b[0;34m.\u001b[0m\u001b[0m_make_engine\u001b[0m\u001b[0;34m(\u001b[0m\u001b[0mself\u001b[0m\u001b[0;34m.\u001b[0m\u001b[0mengine\u001b[0m\u001b[0;34m)\u001b[0m\u001b[0;34m\u001b[0m\u001b[0m\n\u001b[0m\u001b[1;32m    763\u001b[0m \u001b[0;34m\u001b[0m\u001b[0m\n\u001b[1;32m    764\u001b[0m     \u001b[0;32mdef\u001b[0m \u001b[0mclose\u001b[0m\u001b[0;34m(\u001b[0m\u001b[0mself\u001b[0m\u001b[0;34m)\u001b[0m\u001b[0;34m:\u001b[0m\u001b[0;34m\u001b[0m\u001b[0m\n",
      "\u001b[0;32m/Users/doranwu/anaconda/lib/python3.6/site-packages/pandas/io/parsers.py\u001b[0m in \u001b[0;36m_make_engine\u001b[0;34m(self, engine)\u001b[0m\n\u001b[1;32m    964\u001b[0m     \u001b[0;32mdef\u001b[0m \u001b[0m_make_engine\u001b[0m\u001b[0;34m(\u001b[0m\u001b[0mself\u001b[0m\u001b[0;34m,\u001b[0m \u001b[0mengine\u001b[0m\u001b[0;34m=\u001b[0m\u001b[0;34m'c'\u001b[0m\u001b[0;34m)\u001b[0m\u001b[0;34m:\u001b[0m\u001b[0;34m\u001b[0m\u001b[0m\n\u001b[1;32m    965\u001b[0m         \u001b[0;32mif\u001b[0m \u001b[0mengine\u001b[0m \u001b[0;34m==\u001b[0m \u001b[0;34m'c'\u001b[0m\u001b[0;34m:\u001b[0m\u001b[0;34m\u001b[0m\u001b[0m\n\u001b[0;32m--> 966\u001b[0;31m             \u001b[0mself\u001b[0m\u001b[0;34m.\u001b[0m\u001b[0m_engine\u001b[0m \u001b[0;34m=\u001b[0m \u001b[0mCParserWrapper\u001b[0m\u001b[0;34m(\u001b[0m\u001b[0mself\u001b[0m\u001b[0;34m.\u001b[0m\u001b[0mf\u001b[0m\u001b[0;34m,\u001b[0m \u001b[0;34m**\u001b[0m\u001b[0mself\u001b[0m\u001b[0;34m.\u001b[0m\u001b[0moptions\u001b[0m\u001b[0;34m)\u001b[0m\u001b[0;34m\u001b[0m\u001b[0m\n\u001b[0m\u001b[1;32m    967\u001b[0m         \u001b[0;32melse\u001b[0m\u001b[0;34m:\u001b[0m\u001b[0;34m\u001b[0m\u001b[0m\n\u001b[1;32m    968\u001b[0m             \u001b[0;32mif\u001b[0m \u001b[0mengine\u001b[0m \u001b[0;34m==\u001b[0m \u001b[0;34m'python'\u001b[0m\u001b[0;34m:\u001b[0m\u001b[0;34m\u001b[0m\u001b[0m\n",
      "\u001b[0;32m/Users/doranwu/anaconda/lib/python3.6/site-packages/pandas/io/parsers.py\u001b[0m in \u001b[0;36m__init__\u001b[0;34m(self, src, **kwds)\u001b[0m\n\u001b[1;32m   1580\u001b[0m         \u001b[0mkwds\u001b[0m\u001b[0;34m[\u001b[0m\u001b[0;34m'allow_leading_cols'\u001b[0m\u001b[0;34m]\u001b[0m \u001b[0;34m=\u001b[0m \u001b[0mself\u001b[0m\u001b[0;34m.\u001b[0m\u001b[0mindex_col\u001b[0m \u001b[0;32mis\u001b[0m \u001b[0;32mnot\u001b[0m \u001b[0;32mFalse\u001b[0m\u001b[0;34m\u001b[0m\u001b[0m\n\u001b[1;32m   1581\u001b[0m \u001b[0;34m\u001b[0m\u001b[0m\n\u001b[0;32m-> 1582\u001b[0;31m         \u001b[0mself\u001b[0m\u001b[0;34m.\u001b[0m\u001b[0m_reader\u001b[0m \u001b[0;34m=\u001b[0m \u001b[0mparsers\u001b[0m\u001b[0;34m.\u001b[0m\u001b[0mTextReader\u001b[0m\u001b[0;34m(\u001b[0m\u001b[0msrc\u001b[0m\u001b[0;34m,\u001b[0m \u001b[0;34m**\u001b[0m\u001b[0mkwds\u001b[0m\u001b[0;34m)\u001b[0m\u001b[0;34m\u001b[0m\u001b[0m\n\u001b[0m\u001b[1;32m   1583\u001b[0m \u001b[0;34m\u001b[0m\u001b[0m\n\u001b[1;32m   1584\u001b[0m         \u001b[0;31m# XXX\u001b[0m\u001b[0;34m\u001b[0m\u001b[0;34m\u001b[0m\u001b[0m\n",
      "\u001b[0;32mpandas/_libs/parsers.pyx\u001b[0m in \u001b[0;36mpandas._libs.parsers.TextReader.__cinit__ (pandas/_libs/parsers.c:4209)\u001b[0;34m()\u001b[0m\n",
      "\u001b[0;32mpandas/_libs/parsers.pyx\u001b[0m in \u001b[0;36mpandas._libs.parsers.TextReader._setup_parser_source (pandas/_libs/parsers.c:8873)\u001b[0;34m()\u001b[0m\n",
      "\u001b[0;31mFileNotFoundError\u001b[0m: File b'NBA_stats/nba.csv' does not exist"
     ]
    }
   ],
   "source": [
    "#I'm using almost all of these values\n",
    "#for my y axis\n",
    "#importing pandas so as to cleanly extract data from a set\n",
    "import pandas as pd\n",
    "#finding the file\n",
    "nba_data = pd.read_csv(\"NBA_stats/nba.csv\")\n",
    "#only getting the 48th minute\n",
    "minute_48 = nba_data['48']\n",
    "#printing everything out\n",
    "print(minute_48)"
   ]
  },
  {
   "cell_type": "markdown",
   "metadata": {},
   "source": [
    "# First Dataset Preparation"
   ]
  },
  {
   "cell_type": "code",
   "execution_count": 23,
   "metadata": {},
   "outputs": [
    {
     "data": {
      "image/png": "[encoded data removed]",
      "text/plain": [
       "<matplotlib.figure.Figure at 0x11c8f24e0>"
      ]
     },
     "metadata": {},
     "output_type": "display_data"
    },
    {
     "name": "stdout",
     "output_type": "stream",
     "text": [
      "best fit line:\n",
      "y = 0.87 + -0.01x\n"
     ]
    },
    {
     "data": {
      "text/plain": [
       "-0.83764753362831246"
      ]
     },
     "execution_count": 23,
     "metadata": {},
     "output_type": "execute_result"
    }
   ],
   "source": [
    "#top 6 teams losses\n",
    "#x is top 6 teams with their losses\n",
    "#y is percentage of winning in the 48th minute\n",
    "import numpy as np\n",
    "import matplotlib.pyplot as plt\n",
    "# Create data\n",
    "N = 30\n",
    "#list for x coordinates\n",
    "X = [9,15,25,26,27,29]\n",
    "#6 data points\n",
    "#list for y coordinates\n",
    "Y = [0.82,0.66981,0.59091,0.6385,0.5283,0.63889]\n",
    "colors = (0,0,0)\n",
    "area = np.pi*3\n",
    "# Plot\n",
    "#making a scatter plot\n",
    "plt.scatter(X, Y, s=area, c=colors, alpha=0.5)\n",
    "plt.title('All teams')\n",
    "plt.xlabel('losses')\n",
    "plt.ylabel('percentage to win in the 48th minute')\n",
    "plt.show()\n",
    "#finding the line of best fit\n",
    "def best_fit(X, Y):\n",
    "\n",
    "    xbar = sum(X)/len(X)\n",
    "    ybar = sum(Y)/len(Y)\n",
    "    n = len(X) # or len(Y)\n",
    "\n",
    "    numer = sum([xi*yi for xi,yi in zip(X, Y)]) - n * xbar * ybar\n",
    "    denum = sum([xi**2 for xi in X]) - n * xbar**2\n",
    "\n",
    "    b = numer / denum\n",
    "    a = ybar - b * xbar\n",
    "\n",
    "    print('best fit line:\\ny = {:.2f} + {:.2f}x'.format(a, b))\n",
    "\n",
    "    return a, b\n",
    "\n",
    "# solution\n",
    "a, b = best_fit(X, Y)\n",
    "#best fit line:\n",
    "#y = 0.80 + 0.92x\n",
    "\n",
    "# plot points and fit line\n",
    "plt.scatter(X, Y)\n",
    "yfit = [a + b * xi for xi in X]\n",
    "plt.plot(X, yfit)\n",
    "np.corrcoef(X, Y)[0, 1]"
   ]
  },
  {
   "cell_type": "markdown",
   "metadata": {},
   "source": [
    "# Analyzing the First Dataset"
   ]
  },
  {
   "cell_type": "markdown",
   "metadata": {},
   "source": [
    "The graph of the relationship between the top 8 team's number of losses (X values) and the chance of that team winning in the 48th minute (Y values) in the NBA is pretty clean. The points follow a negative and linear trend. The correlation coefficient which measures how well data fits the line of best-fit is equal to -0.838. This value is fairly strong in terms of statistical analysis. By looking at the graph of the points, it is pretty clear that the relationship is linear. Therefore, I used the right regression model (from Michael). The only reason I can visually see as to why r is not closer to 1, is the point (26,0.6385) and (29,0.63889). The y-value is rather high in terms of the given x-value. If those points were removed, the line of best-fit might be more accurate and r would probably be closer to 1.\n",
    "\n",
    "In terms of what can be concluded:\n",
    "\n",
    "-The less losses a team had, the higher probability of winning in the 48th minute\n",
    "-The correlation between these two values is very strong, negative, and linear\n",
    "-Conjecture: The 48th minute is the most important minute of the game. The success of a team in the 48th minute will indicate the success of a season\n",
    "-I just plotted the relationship between the number of losses a team has versus the chance of a team winning in the 48th minute for the top 8 teams. Now I will be doing the same for the worst 8 teams and their losses."
   ]
  },
  {
   "cell_type": "markdown",
   "metadata": {},
   "source": [
    "# Second Dataset"
   ]
  },
  {
   "cell_type": "code",
   "execution_count": 21,
   "metadata": {},
   "outputs": [
    {
     "data": {
      "image/png": "[encoded data removed]",
      "text/plain": [
       "<matplotlib.figure.Figure at 0x11c3d8400>"
      ]
     },
     "metadata": {},
     "output_type": "display_data"
    },
    {
     "name": "stdout",
     "output_type": "stream",
     "text": [
      "best fit line:\n",
      "y = 0.96 + -0.01x\n"
     ]
    },
    {
     "data": {
      "text/plain": [
       "-0.45573741322257638"
      ]
     },
     "execution_count": 21,
     "metadata": {},
     "output_type": "execute_result"
    }
   ],
   "source": [
    "import pandas as pd\n",
    "nba_data = pd.read_csv(\"Data Files/nba.csv\")\n",
    "minute_48 = nba_data['48']\n",
    "import numpy as np\n",
    "import matplotlib.pyplot as plt\n",
    "N = 7\n",
    "#my list for x coordinates\n",
    "X = [72,65,61,59,53,52]\n",
    "#list for y coordinates\n",
    "Y = [0.22642,0.24528,0.42308,0.58491,0.22642,0.5283]\n",
    "#base colors\n",
    "colors = (0,0,0)\n",
    "area = np.pi*3\n",
    "#making a scatter plot\n",
    "# Plot\n",
    "plt.scatter(X, Y, s=area, c=colors, alpha=0.5)\n",
    "#naming my axes\n",
    "plt.title('8 worst teams')\n",
    "plt.xlabel('losses')\n",
    "plt.ylabel('percentage to win in the 48th minute')\n",
    "plt.show()\n",
    "#finding the line of best fit\n",
    "def best_fit(X, Y):\n",
    "\n",
    "    xbar = sum(X)/len(X)\n",
    "    ybar = sum(Y)/len(Y)\n",
    "    n = len(X) # or len(Y)\n",
    "\n",
    "    numer = sum([xi*yi for xi,yi in zip(X, Y)]) - n * xbar * ybar\n",
    "    denum = sum([xi**2 for xi in X]) - n * xbar**2\n",
    "\n",
    "    b = numer / denum\n",
    "    a = ybar - b * xbar\n",
    "\n",
    "    print('best fit line:\\ny = {:.2f} + {:.2f}x'.format(a, b))\n",
    "\n",
    "    return a, b\n",
    "\n",
    "# solution\n",
    "a, b = best_fit(X, Y)\n",
    "#best fit line:\n",
    "#y = 0.80 + 0.92x\n",
    "\n",
    "# plot points and fit line\n",
    "plt.scatter(X, Y)\n",
    "yfit = [a + b * xi for xi in X]\n",
    "plt.plot(X, yfit)\n",
    "np.corrcoef(X, Y)[0, 1]"
   ]
  },
  {
   "cell_type": "markdown",
   "metadata": {},
   "source": [
    "# Analyzing the Second Dataset"
   ]
  },
  {
   "cell_type": "markdown",
   "metadata": {
    "collapsed": true
   },
   "source": [
    "The graph of the relationship between a team's number of losses (X values) and the chance of a team winning in the 48th minute (Y values) for the worst 8 teams in the NBA is very off. The points follow a negative and linear trend. The correlation coefficient which measures how well data fits the line of best-fit is equal to -0.4557. This value is extremely weak and it barely rounds to 1.\n",
    "\n",
    "-In terms of what can be concluded (same as the previous graph):\n",
    "-The more losses a team had does not affect its success rate in the 48th minute.\n",
    "-The correlation between these two values is pretty weak,negative, and linear\n",
    "-Conjecture: The 48th minute is the most important minute of the game. The success of a team in the 48th minute will indicate the success of a season.Next although this is on a tangent I would like to look at a team's chance of winning any game with its success rate in the 48th minute."
   ]
  },
  {
   "cell_type": "markdown",
   "metadata": {},
   "source": [
    "# Third Dataset"
   ]
  },
  {
   "cell_type": "code",
   "execution_count": 25,
   "metadata": {},
   "outputs": [
    {
     "data": {
      "image/png": "[encoded data removed]",
      "text/plain": [
       "<matplotlib.figure.Figure at 0x11d259f60>"
      ]
     },
     "metadata": {},
     "output_type": "display_data"
    },
    {
     "name": "stdout",
     "output_type": "stream",
     "text": [
      "best fit line:\n",
      "y = -0.11 + 1.11x\n"
     ]
    },
    {
     "data": {
      "text/plain": [
       "0.63900859811698096"
      ]
     },
     "execution_count": 25,
     "metadata": {},
     "output_type": "execute_result"
    }
   ],
   "source": [
    "#8 random teams\n",
    "#x = percentage of winning any game\n",
    "#y = percentage of winning in the 48th minute\n",
    "#importing all the important packages for graphing\n",
    "import numpy as np\n",
    "import matplotlib.pyplot as plt\n",
    "#Create Data\n",
    "\n",
    "N = 30\n",
    "#the random teams are down there\n",
    "X = [0.585,0.402,0.488,0.585,0.683,0.671]\n",
    "#Boston,Sacramento,Utah,Atlanta,Toronto,Oklahoma\n",
    "Y = [0.41176,0.33654,0.35849,0.80556,0.67308,0.5283]\n",
    "colors = (0,0,0)\n",
    "area = np.pi*3\n",
    " \n",
    "# Plot\n",
    "#naming my asxes\n",
    "plt.scatter(X, Y, s=area, c=colors, alpha=0.5)\n",
    "plt.title('8 random teams')\n",
    "plt.xlabel('percentage of winning any game, PCT')\n",
    "plt.ylabel('percentage to win in the 48th minute')\n",
    "plt.show()\n",
    "#finding the line of best fit and graphing it\n",
    "def best_fit(X, Y):\n",
    "\n",
    "    xbar = sum(X)/len(X)\n",
    "    ybar = sum(Y)/len(Y)\n",
    "    n = len(X) # or len(Y)\n",
    "\n",
    "    numer = sum([xi*yi for xi,yi in zip(X, Y)]) - n * xbar * ybar\n",
    "    denum = sum([xi**2 for xi in X]) - n * xbar**2\n",
    "\n",
    "    b = numer / denum\n",
    "    a = ybar - b * xbar\n",
    "\n",
    "    print('best fit line:\\ny = {:.2f} + {:.2f}x'.format(a, b))\n",
    "\n",
    "    return a, b\n",
    "\n",
    "# solution\n",
    "a, b = best_fit(X, Y)\n",
    "#best fit line:\n",
    "#y = 0.80 + 0.92x\n",
    "\n",
    "# plot points and fit line\n",
    "plt.scatter(X, Y)\n",
    "yfit = [a + b * xi for xi in X]\n",
    "plt.plot(X, yfit)\n",
    "np.corrcoef(X, Y)[0, 1]"
   ]
  },
  {
   "cell_type": "markdown",
   "metadata": {},
   "source": [
    "# Analysis of Third Data Set"
   ]
  },
  {
   "cell_type": "markdown",
   "metadata": {
    "collapsed": true
   },
   "source": [
    "For my third graph, I wanted to try something different. I chose 8 random teams in the NBA and found the percentage of winning any game. For the X values, I used the percentage of winning any game for a select number of teams in the 2014-2015 season. These values were paired up with the Y values of the probability that a team would win in the 48th minute. The relationship between these two variables is fairly strong. The correlation coefficient is rounds to 1 at 0.639. The data points are pretty close to the line of best fit except the point, (0.585,0.80556).\n",
    "\n",
    "Therefore I can make these conclusions:\n",
    "\n",
    "-The relationship between the percentage of winning in a season vs the percentage of winning in the 48th minute is, positive, and linear\n",
    "-The percentage of wins a team has does affect its success rate in the 48th minute\n",
    "-Possibly, the loss percentage with the success rate in the 48th minute might show a stronger correlation"
   ]
  },
  {
   "cell_type": "markdown",
   "metadata": {},
   "source": [
    "# Conclusion"
   ]
  },
  {
   "cell_type": "markdown",
   "metadata": {},
   "source": [
    "Conclusions including answers to the three essential questions:\n",
    "    \n",
    "-The more losses a team had, does not affect its percentage in the 48th minute, (true for one graph, and questionable for another)\n",
    "-Conjecture: The 48th minute, is the most important minute of every basketball game. The success of a any team in the -48th minute will show in the success of a whole season.\n",
    "-Higher percentage of wins affects percentage in the 48th minute, being positive for both\n",
    "-Further exploration? : Possibly, looking at losses percentages for any game with the 48th minute."
   ]
  },
  {
   "cell_type": "markdown",
   "metadata": {},
   "source": [
    "# Acknowledgements"
   ]
  },
  {
   "cell_type": "raw",
   "metadata": {},
   "source": [
    "-Michael Gary helped me find the correlation coefficent\n",
    "-I used http://www.nba.com/standings/2015/team_record_comparison/conferenceNew_Std_Div.html, to find the data for all the nba wins\n",
    "-thank you to some reputable sources from Doctor Google who helped me understand the code\n",
    "-thank you Ms.Sconyers for providing the necessary resources for me to finish the lab\n",
    "-Mahir also helped me to learn about pandas"
   ]
  }
 ],
 "metadata": {
  "kernelspec": {
   "display_name": "Python 3",
   "language": "python",
   "name": "python3"
  },
  "language_info": {
   "codemirror_mode": {
    "name": "ipython",
    "version": 3
   },
   "file_extension": ".py",
   "mimetype": "text/x-python",
   "name": "python",
   "nbconvert_exporter": "python",
   "pygments_lexer": "ipython3",
   "version": "3.6.1"
  }
 },
 "nbformat": 4,
 "nbformat_minor": 2
}
